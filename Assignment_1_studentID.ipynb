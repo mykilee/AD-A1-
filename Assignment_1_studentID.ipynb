{
 "cells": [
  {
   "cell_type": "markdown",
   "metadata": {
    "id": "rbgjVp6BXGCT"
   },
   "source": [
    "\n",
    "# **Assignment 1**\n",
    "\n",
    "\n",
    "## Task 1. Correlation\n",
    "We will use the data example from the textbook \"Statistical Analysis with The General Linear Model\" by Miller and Haden (2013), Chapter 11.\n",
    "\n",
    "As in Miller and Haden, we have five columns:\n",
    "\n",
    "-Participant (Participant),\n",
    "\n",
    "-Reading Ability (Abil),\n",
    "\n",
    "-Intelligence (IQ),\n",
    "\n",
    "-Number of minutes spent reading at home per week (Home),\n",
    "\n",
    "-Number of minutes spent watching TV per week (TV).\n",
    "\n",
    "\n",
    "For the task we will focus on the relationship between Reading Ability and IQ, but for further practice you can look at other relationships on your own."
   ]
  },
  {
   "cell_type": "markdown",
   "metadata": {
    "id": "Z4cXzKORYFaD"
   },
   "source": [
    "**Question 1**:\n",
    "\n",
    "a. Check whether the data is interval, ratio, or ordinal.\n",
    "\n",
    "b. Check whether there is a data point for each participant on both variables.\n",
    "\n",
    "c. Check whether the data is normally distributed in both variables.\n",
    "\n",
    "d. Create a scatter plot with Reading Ability being the x-axis and IQ, being the y-axis.\n",
    "\n",
    "e. Draw a correlation line on the scatter plot.\n",
    "\n",
    "\n",
    "**Instructions:**\n",
    "\n",
    "1. Load the necessary libraries and explain why you need them (\"#used for ...\").\n",
    "\n",
    "2. Read the MillerHadenData.csv file into a DataFrame and name it \"df_mh\"."
   ]
  },
  {
   "cell_type": "code",
   "execution_count": 34,
   "metadata": {
    "id": "140M8Z4qYn_G",
    "scrolled": true
   },
   "outputs": [
    {
     "name": "stdout",
     "output_type": "stream",
     "text": [
      "Requirement already satisfied: pingouin in /Users/mykilee/anaconda3/lib/python3.11/site-packages (0.5.4)\n",
      "Requirement already satisfied: numpy in /Users/mykilee/anaconda3/lib/python3.11/site-packages (from pingouin) (1.24.3)\n",
      "Requirement already satisfied: scipy in /Users/mykilee/anaconda3/lib/python3.11/site-packages (from pingouin) (1.10.1)\n",
      "Requirement already satisfied: pandas>=1.5 in /Users/mykilee/anaconda3/lib/python3.11/site-packages (from pingouin) (1.5.3)\n",
      "Requirement already satisfied: matplotlib in /Users/mykilee/anaconda3/lib/python3.11/site-packages (from pingouin) (3.7.1)\n",
      "Requirement already satisfied: seaborn in /Users/mykilee/anaconda3/lib/python3.11/site-packages (from pingouin) (0.12.2)\n",
      "Requirement already satisfied: statsmodels in /Users/mykilee/anaconda3/lib/python3.11/site-packages (from pingouin) (0.14.0)\n",
      "Requirement already satisfied: scikit-learn in /Users/mykilee/anaconda3/lib/python3.11/site-packages (from pingouin) (1.3.0)\n",
      "Requirement already satisfied: pandas-flavor in /Users/mykilee/anaconda3/lib/python3.11/site-packages (from pingouin) (0.6.0)\n",
      "Requirement already satisfied: tabulate in /Users/mykilee/anaconda3/lib/python3.11/site-packages (from pingouin) (0.8.10)\n",
      "Requirement already satisfied: python-dateutil>=2.8.1 in /Users/mykilee/anaconda3/lib/python3.11/site-packages (from pandas>=1.5->pingouin) (2.8.2)\n",
      "Requirement already satisfied: pytz>=2020.1 in /Users/mykilee/anaconda3/lib/python3.11/site-packages (from pandas>=1.5->pingouin) (2022.7)\n",
      "Requirement already satisfied: contourpy>=1.0.1 in /Users/mykilee/anaconda3/lib/python3.11/site-packages (from matplotlib->pingouin) (1.0.5)\n",
      "Requirement already satisfied: cycler>=0.10 in /Users/mykilee/anaconda3/lib/python3.11/site-packages (from matplotlib->pingouin) (0.11.0)\n",
      "Requirement already satisfied: fonttools>=4.22.0 in /Users/mykilee/anaconda3/lib/python3.11/site-packages (from matplotlib->pingouin) (4.25.0)\n",
      "Requirement already satisfied: kiwisolver>=1.0.1 in /Users/mykilee/anaconda3/lib/python3.11/site-packages (from matplotlib->pingouin) (1.4.4)\n",
      "Requirement already satisfied: packaging>=20.0 in /Users/mykilee/anaconda3/lib/python3.11/site-packages (from matplotlib->pingouin) (23.0)\n",
      "Requirement already satisfied: pillow>=6.2.0 in /Users/mykilee/anaconda3/lib/python3.11/site-packages (from matplotlib->pingouin) (9.4.0)\n",
      "Requirement already satisfied: pyparsing>=2.3.1 in /Users/mykilee/anaconda3/lib/python3.11/site-packages (from matplotlib->pingouin) (3.0.9)\n",
      "Requirement already satisfied: xarray in /Users/mykilee/anaconda3/lib/python3.11/site-packages (from pandas-flavor->pingouin) (2023.6.0)\n",
      "Requirement already satisfied: joblib>=1.1.1 in /Users/mykilee/anaconda3/lib/python3.11/site-packages (from scikit-learn->pingouin) (1.2.0)\n",
      "Requirement already satisfied: threadpoolctl>=2.0.0 in /Users/mykilee/anaconda3/lib/python3.11/site-packages (from scikit-learn->pingouin) (2.2.0)\n",
      "Requirement already satisfied: patsy>=0.5.2 in /Users/mykilee/anaconda3/lib/python3.11/site-packages (from statsmodels->pingouin) (0.5.3)\n",
      "Requirement already satisfied: six in /Users/mykilee/anaconda3/lib/python3.11/site-packages (from patsy>=0.5.2->statsmodels->pingouin) (1.16.0)\n"
     ]
    }
   ],
   "source": [
    "import pandas as pd # used for data wrangling\n",
    "import seaborn as sns # used for visualization\n",
    "import matplotlib  # used for creating charts and visualizations\n",
    "from matplotlib import pyplot as plt # used for creating various types of plots and visualizations to help understand the data\n",
    "import pylab # used for creating plots and visualizations.\n",
    "!pip install pingouin # load pingouin\n",
    "import pingouin as pg # used for conducting statistical tests or analyses.\n",
    "\n",
    "df_mh = pd.read_csv('data for A1/MillerHadenData.csv') # read data of MillerHadenData.csv\n",
    "\n"
   ]
  },
  {
   "cell_type": "code",
   "execution_count": 35,
   "metadata": {
    "id": "rwqidw5q2D1n"
   },
   "outputs": [
    {
     "name": "stdout",
     "output_type": "stream",
     "text": [
      "   Participant  Abil   IQ  Home   TV\n",
      "0            1    61  107   144  487\n",
      "1            2    56  109   123  608\n",
      "2            3    45   81   108  640\n",
      "3            4    66  100   155  493\n",
      "4            5    49   92   103  636\n"
     ]
    }
   ],
   "source": [
    "# Q1a (code):\n",
    "\n",
    "# Display first 5 rows of the dataframe\n",
    "print(df_mh.head())\n",
    "\n",
    "# Check data types and information\n"
   ]
  },
  {
   "cell_type": "code",
   "execution_count": 36,
   "metadata": {
    "id": "Edd9mYgi2Jar"
   },
   "outputs": [
    {
     "name": "stdout",
     "output_type": "stream",
     "text": [
      "Each participant has data points for both variables.\n"
     ]
    }
   ],
   "source": [
    "# Q1b (code):\n",
    "# Check for missing values\n",
    "missing_data = df_mh[['Abil', 'IQ']].isnull().sum()\n",
    "\n",
    "# Check whether there is a data point for each participant on both variables\n",
    "if all(missing_data == 0):\n",
    "    print(\"Each participant has data points for both variables.\")\n",
    "else:\n",
    "    print(\"Some participants are missing data points for at least one variable.\")\n",
    "    print(\"Missing data statistics:\")\n",
    "    print(missing_data)\n",
    "# This part of the code checks if there are missing values for any participant in either the 'Abil' or 'IQ' \n",
    "# variable. If there are no missing values (all(missing_data == 0) is True), it prints a message indicating that\n",
    "# each participant has data points for both variables. Otherwise, it prints a message indicating that some \n",
    "# participants are missing data points for at least one variable, along with the missing data statistics."
   ]
  },
  {
   "cell_type": "code",
   "execution_count": 37,
   "metadata": {
    "id": "3ALe0fjr2K5h"
   },
   "outputs": [
    {
     "name": "stdout",
     "output_type": "stream",
     "text": [
      "Shapiro-Wilk test results:\n",
      "Abil: W=0.9487950205802917, p-value=0.2354886382818222\n",
      "IQ: W=0.9636043310165405, p-value=0.4908201992511749\n",
      "Abil is normally distributed.\n",
      "IQ is normally distributed.\n"
     ]
    }
   ],
   "source": [
    "# Q1c (code):\n",
    "from scipy.stats import shapiro\n",
    "\n",
    "# Check data distribution\n",
    "shapiro_reading = shapiro(df_mh['Abil'])\n",
    "shapiro_iq = shapiro(df_mh['IQ'])\n",
    "# The shapiro function from the scipy.stats module is used to conduct the Shapiro-Wilk test. It returns\n",
    "# the test statistic ('W') and the p-value for each variable.\n",
    "\n",
    "print(\"Shapiro-Wilk test results:\")\n",
    "print(f\"Abil: W={shapiro_reading[0]}, p-value={shapiro_reading[1]}\")\n",
    "print(f\"IQ: W={shapiro_iq[0]}, p-value={shapiro_iq[1]}\")\n",
    "\n",
    "# These conditional statements interpret the results of the Shapiro-Wilk test. If the p-value is greater than 0.05,\n",
    "# it is concluded that the variable is normally distributed; otherwise, it is considered not normally distributed.\n",
    "# The printed messages convey whether 'Abil' and 'IQ' are normally distributed based on the significance level of\n",
    "# 0.05.\n",
    "\n",
    "if shapiro_reading[1] > 0.05:\n",
    "    print(\"Abil is normally distributed.\")\n",
    "else:\n",
    "    print(\"Abil is not normally distributed.\")\n",
    "\n",
    "if shapiro_iq[1] > 0.05:\n",
    "    print(\"IQ is normally distributed.\")\n",
    "else:\n",
    "    print(\"IQ is not normally distributed.\")"
   ]
  },
  {
   "cell_type": "code",
   "execution_count": 38,
   "metadata": {
    "id": "xaQ300fY2MPe"
   },
   "outputs": [
    {
     "data": {
      "image/png": "[encoded data removed]",
      "text/plain": [
       "<Figure size 800x600 with 1 Axes>"
      ]
     },
     "metadata": {},
     "output_type": "display_data"
    }
   ],
   "source": [
    "# Q1d (code):Create a scatter plot\n",
    "# Scatter plot\n",
    "\n",
    "plt.figure(figsize=(8, 6)) #This line initializes a new figure with a specified size (8 inches in width and 6 inches in height).\n",
    "sns.scatterplot(x='Abil', y='IQ', data=df_mh) # create a scatter plot. It takes the 'Abil' variable as the x-axis, 'IQ' as the y-axis, and the data is provided from the DataFrame df_mh.\n",
    "plt.title('Scatter Plot of Abil and IQ') # title ：Scatter Plot of Abil and IQ\n",
    "plt.xlabel('Abil') # x-axes:Abil\n",
    "plt.ylabel('IQ')  # y-axes:IQ\n",
    "plt.show()\n",
    "\n",
    "\n"
   ]
  },
  {
   "cell_type": "code",
   "execution_count": 39,
   "metadata": {
    "id": "Zpkwqc382N06"
   },
   "outputs": [
    {
     "data": {
      "image/png": "[encoded data removed]",
      "text/plain": [
       "<Figure size 800x600 with 1 Axes>"
      ]
     },
     "metadata": {},
     "output_type": "display_data"
    }
   ],
   "source": [
    "# Q1e (code):\n",
    "from scipy.stats import pearsonr\n",
    "# Correlation line: Using Pearson correlation coefficient(because normally distributed and linear correlation)\n",
    "correlation_coefficient, _ = pearsonr(df_mh['Abil'], df_mh['IQ'])\n",
    "\n",
    "plt.figure(figsize=(8, 6)) \n",
    "sns.regplot(x='Abil', y='IQ', data=df_mh, line_kws={'color': 'red'}, scatter_kws={'alpha': 0.5})\n",
    "plt.title(f'Scatter Plot with Correlation Line (Pearson r={correlation_coefficient:.2f})')\n",
    "plt.xlabel('Abil')\n",
    "plt.ylabel('IQ')\n",
    "plt.show()"
   ]
  },
  {
   "cell_type": "markdown",
   "metadata": {
    "id": "tKtW2diqZq1S"
   },
   "source": [
    "**Question 2**:\n",
    "\n",
    "a. Which correlation coefficient test can we use, Pearson or Spearman? Briefly explian why based on the results of Question 1.\n",
    "\n",
    "b. Conduct a correlation coefficient test.\n",
    "\n",
    "c. Interpret the result (direction and strength of the association between the two varibles)"
   ]
  },
  {
   "cell_type": "code",
   "execution_count": 40,
   "metadata": {
    "id": "t5GRVxHwaKIS"
   },
   "outputs": [],
   "source": [
    "# Q2a (answer with words):\n",
    "#Since both 'Abil'and 'IQ' are normally distributed, we can use the Pearson correlation coefficient\n",
    "#The Pearson correlation coefficient is appropriate when the variables are normally distributed \n",
    "# and there is a linear relationship between them as we can see in Q1D."
   ]
  },
  {
   "cell_type": "code",
   "execution_count": 41,
   "metadata": {
    "id": "LTSp6xMFaKgf"
   },
   "outputs": [
    {
     "name": "stdout",
     "output_type": "stream",
     "text": [
      "Pearson Correlation Coefficient: 0.4512\n",
      "P-value: 0.0236\n",
      "Reject the null hypothesis. There is a significant correlation between 'Abil' and 'IQ'.\n"
     ]
    }
   ],
   "source": [
    "# Q2b (code):\n",
    "#This line of code uses the pearsonr function\n",
    "#to calculate the Pearson correlation coefficient and its associated p-value for the variables 'Abil' and 'IQ'.\n",
    "correlation_coefficient, p_value = pearsonr(df_mh['Abil'], df_mh['IQ'])\n",
    "\n",
    "#we print the computed Pearson correlation coefficient and p-value, rounding them to four decimal places.\n",
    "print(f\"Pearson Correlation Coefficient: {correlation_coefficient:.4f}\")\n",
    "print(f\"P-value: {p_value:.4f}\")\n",
    "alpha = 0.05 # the significance level (alpha) to 0.05, which is a common threshold in hypothesis testing.\n",
    "if p_value < alpha:\n",
    "    print(\"Reject the null hypothesis. There is a significant correlation between 'Abil' and 'IQ'.\")\n",
    "else:\n",
    "    print(\"Fail to reject the null hypothesis. There is no significant correlation between 'Abil' and 'IQ'.\")\n",
    "# This conditional statement compares the calculated p-value (presumably obtained from a statistical test) with \n",
    "# the chosen significance level. If the p-value is less than the significance level (alpha), it prints a message \n",
    "# indicating that the null hypothesis is rejected, suggesting a significant correlation between 'Abil' and 'IQ'. \n",
    "# If the p-value is greater than or equal to the significance level, it prints a message indicating a failure to\n",
    "# reject the null hypothesis, suggesting no significant correlation between 'Abil' and 'IQ'."
   ]
  },
  {
   "cell_type": "code",
   "execution_count": 42,
   "metadata": {
    "id": "m_3aCSG7ylFJ"
   },
   "outputs": [
    {
     "name": "stdout",
     "output_type": "stream",
     "text": [
      "The association between 'Abil' and 'IQ' is positive and has a moderate strength.\n"
     ]
    }
   ],
   "source": [
    "# Q2c (answer with words):\n",
    "\n",
    "#This part of the code determines the direction of the relationship based on whether the Pearson \n",
    "#correlation coefficient is positive, negative, or close to zero.\n",
    "if correlation_coefficient > 0:\n",
    "    direction = \"positive\"\n",
    "elif correlation_coefficient < 0:\n",
    "    direction = \"negative\"\n",
    "else:\n",
    "    direction = \"no\"\n",
    "#This part of the code categorizes the strength of the association as very weak, weak, moderate, \n",
    "#strong, or very strong based on the absolute value of the Pearson correlation coefficient.  \n",
    "if 0.8 <= abs(correlation_coefficient) <= 1:\n",
    "    strength = \"very strong\"\n",
    "elif 0.6 <= abs(correlation_coefficient) < 0.8:\n",
    "    strength = \"strong\"\n",
    "elif 0.4 <= abs(correlation_coefficient) < 0.6:\n",
    "    strength = \"moderate\"\n",
    "elif 0.2 <= abs(correlation_coefficient) < 0.4:\n",
    "    strength = \"weak\"\n",
    "else:\n",
    "    strength = \"very weak\"\n",
    "#The final line of code prints the interpreted results based on the calculated Pearson correlation \n",
    "#coefficient and p-value, including the direction and strength of the association\n",
    "print(f\"The association between 'Abil' and 'IQ' is {direction} and has a {strength} strength.\")"
   ]
  },
  {
   "cell_type": "markdown",
   "metadata": {
    "id": "mogdaz8P27oU"
   },
   "source": [
    "## Task 2. Chi-square Test\n",
    "We will continue to use the data example from Task 1.\n",
    "\n",
    "We want to explore whether there are significant differences in the amount of time spent reading at home per week (Home) among people with different reading abilities (Reading Ability). Therefore, we will divide the reading ability of all participants into two groups. The first group is those with low reading ability (Reading Ability at or below the rounded average), and the second group is those with high reading ability (Reading Ability above the rounded average). We will store this grouping in a new column named \"Rank_Abil\".\n",
    "\n",
    "\n",
    "Similarly, the reading time is divided into two different scenarios: the first scenario is infrequent reading (Home at or below the rounded average), and the other is frequent reading (Reading Ability above the rounded average). We will store this grouping in a new column named \"Rank_Home\".\n",
    "\n",
    "\n",
    "Then, construct a Contingency Matrix and perform a Chi-square test.\n",
    "\n",
    "**Question 3**:\n",
    "\n",
    "a. Please state the null hypothesis (H0) and alternative hypothesis (H1) for this Chi-square test.\n",
    "\n",
    "b. Based on the task description, add new columns “Rank_Abil” and \"Rank_Home\" to the dataframe df_mh.\n",
    "\n",
    "c. Construct a Contingency Matrix.\n",
    "\n",
    "d. Perform a Chi-square test.\n",
    "\n",
    "e. Interpret the results of the Chi-square test (answer in text)."
   ]
  },
  {
   "cell_type": "code",
   "execution_count": 43,
   "metadata": {
    "id": "tIKHfEwG-Pte"
   },
   "outputs": [],
   "source": [
    "# Q3a (answer in words):\n",
    "\n",
    "# H0:There is no significant association between the reading ability (\"Rank_Abil\") and \n",
    "# the amount of time spent reading at home (\"Rank_Home\") among the participants.\n",
    "\n",
    "# H1：There is a significant association between the reading ability (\"Rank_Abil\") and \n",
    "# the amount of time spent reading at home (\"Rank_Home\") among the participants."
   ]
  },
  {
   "cell_type": "code",
   "execution_count": 44,
   "metadata": {
    "id": "nlO-hmq2-V2Z"
   },
   "outputs": [
    {
     "data": {
      "text/html": [
       "<div>\n",
       "<style scoped>\n",
       "    .dataframe tbody tr th:only-of-type {\n",
       "        vertical-align: middle;\n",
       "    }\n",
       "\n",
       "    .dataframe tbody tr th {\n",
       "        vertical-align: top;\n",
       "    }\n",
       "\n",
       "    .dataframe thead th {\n",
       "        text-align: right;\n",
       "    }\n",
       "</style>\n",
       "<table border=\"1\" class=\"dataframe\">\n",
       "  <thead>\n",
       "    <tr style=\"text-align: right;\">\n",
       "      <th></th>\n",
       "      <th>Participant</th>\n",
       "      <th>Abil</th>\n",
       "      <th>IQ</th>\n",
       "      <th>Home</th>\n",
       "      <th>TV</th>\n",
       "      <th>Rank_Abil</th>\n",
       "      <th>Rank_Home</th>\n",
       "    </tr>\n",
       "  </thead>\n",
       "  <tbody>\n",
       "    <tr>\n",
       "      <th>0</th>\n",
       "      <td>1</td>\n",
       "      <td>61</td>\n",
       "      <td>107</td>\n",
       "      <td>144</td>\n",
       "      <td>487</td>\n",
       "      <td>High</td>\n",
       "      <td>Frequent</td>\n",
       "    </tr>\n",
       "    <tr>\n",
       "      <th>1</th>\n",
       "      <td>2</td>\n",
       "      <td>56</td>\n",
       "      <td>109</td>\n",
       "      <td>123</td>\n",
       "      <td>608</td>\n",
       "      <td>High</td>\n",
       "      <td>Infrequent</td>\n",
       "    </tr>\n",
       "    <tr>\n",
       "      <th>2</th>\n",
       "      <td>3</td>\n",
       "      <td>45</td>\n",
       "      <td>81</td>\n",
       "      <td>108</td>\n",
       "      <td>640</td>\n",
       "      <td>Low</td>\n",
       "      <td>Infrequent</td>\n",
       "    </tr>\n",
       "    <tr>\n",
       "      <th>3</th>\n",
       "      <td>4</td>\n",
       "      <td>66</td>\n",
       "      <td>100</td>\n",
       "      <td>155</td>\n",
       "      <td>493</td>\n",
       "      <td>High</td>\n",
       "      <td>Frequent</td>\n",
       "    </tr>\n",
       "    <tr>\n",
       "      <th>4</th>\n",
       "      <td>5</td>\n",
       "      <td>49</td>\n",
       "      <td>92</td>\n",
       "      <td>103</td>\n",
       "      <td>636</td>\n",
       "      <td>Low</td>\n",
       "      <td>Infrequent</td>\n",
       "    </tr>\n",
       "  </tbody>\n",
       "</table>\n",
       "</div>"
      ],
      "text/plain": [
       "   Participant  Abil   IQ  Home   TV Rank_Abil   Rank_Home\n",
       "0            1    61  107   144  487      High    Frequent\n",
       "1            2    56  109   123  608      High  Infrequent\n",
       "2            3    45   81   108  640       Low  Infrequent\n",
       "3            4    66  100   155  493      High    Frequent\n",
       "4            5    49   92   103  636       Low  Infrequent"
      ]
     },
     "execution_count": 44,
     "metadata": {},
     "output_type": "execute_result"
    }
   ],
   "source": [
    "# Q3b (code):\n",
    "# Import necessary libraries\n",
    "import pandas as pd  \n",
    "from scipy.stats import chi2_contingency ##used for performing the chi-square test of independence on two categorical variables\n",
    "import numpy as np\n",
    "\n",
    "# Define the rounded average for Reading Ability and Home\n",
    "\n",
    "# First, we calculate the average values for 'Abil' and 'Home'.\n",
    "average_abil = df_mh['Abil'].mean()\n",
    "average_home = df_mh['Home'].mean()\n",
    "\n",
    "# Create the Rank_Abil column\n",
    "# We add a new column \"Rank_Abil\" based on whether the 'Abil' is below or above the average.\n",
    "df_mh['Rank_Abil'] = np.where(df_mh['Abil'] <= average_abil, 'Low', 'High')\n",
    "\n",
    "# Create the Rank_Home column\n",
    "#We add a new column \"Rank_Home\" based on whether the 'Home' is below or above the average.\n",
    "df_mh['Rank_Home'] = np.where(df_mh['Home'] <= average_home, 'Infrequent', 'Frequent')\n",
    "\n",
    "# Display the updated DataFrame\n",
    "df_mh.head()"
   ]
  },
  {
   "cell_type": "code",
   "execution_count": 45,
   "metadata": {
    "id": "jjtp4cm4-Y36"
   },
   "outputs": [
    {
     "name": "stdout",
     "output_type": "stream",
     "text": [
      "The values:\n",
      "[8, 2, 3, 12]\n",
      "The contingency matrix\n",
      "[[ 8  2]\n",
      " [ 3 12]]\n"
     ]
    }
   ],
   "source": [
    "# Q3c (code):\n",
    "\n",
    "# Construct Contingency Matrix\n",
    "high_frequent = df_mh[(df_mh['Rank_Abil'] == \"High\") & (df_mh['Rank_Home'] == 'Frequent')]\n",
    "high_infrequent = df_mh[(df_mh['Rank_Abil'] == \"High\") & (df_mh['Rank_Home'] == 'Infrequent')]\n",
    "low_frequent = df_mh[(df_mh['Rank_Abil'] == \"Low\") & (df_mh['Rank_Home'] == 'Frequent')]\n",
    "low_infrequent = df_mh[(df_mh['Rank_Abil'] == \"Low\") & (df_mh['Rank_Home'] == 'Infrequent')]\n",
    "\n",
    "data4contingency = []\n",
    "data4contingency.append(len((high_frequent)))\n",
    "data4contingency.append(len(high_infrequent))\n",
    "data4contingency.append(len(low_frequent))\n",
    "data4contingency.append(len(low_infrequent))\n",
    "\n",
    "print('The values:')\n",
    "print(data4contingency)\n",
    "\n",
    "# We transform the list in a contingency matrix\n",
    "data_cm = np.array(data4contingency).reshape(2,-1)\n",
    "\n",
    "print('The contingency matrix')\n",
    "print(data_cm)"
   ]
  },
  {
   "cell_type": "code",
   "execution_count": 46,
   "metadata": {
    "id": "gyDS8hq2-bmx"
   },
   "outputs": [
    {
     "name": "stdout",
     "output_type": "stream",
     "text": [
      "6.500270562770561 0.010785807794066234\n",
      "These are the expected frequencies\n",
      "[[4.4 5.6]\n",
      " [6.6 8.4]]\n",
      "The observed differences are statiscally significant - H0 is rejected\n"
     ]
    }
   ],
   "source": [
    "# Q3d (code):\n",
    "\n",
    "from scipy.stats import chisquare\n",
    "\n",
    "# Calculate the chi-square statistic and p-value\n",
    "chi2, p_value, degree_of_freedom, expected_frequencies = chi2_contingency(data_cm)\n",
    "print(chi2, p_value)\n",
    "print('These are the expected frequencies')\n",
    "print(expected_frequencies)\n",
    "# If the p-value is less than the chosen significance level, it suggests rejecting the null hypothesis, \n",
    "# indicating a significant association between 'Rank_Abil' and 'Rank_Home'. \n",
    "# Conversely, if the p-value is greater than or equal to the significance level, the code suggests failing to reject \n",
    "# the null hypothesis, implying no significant association.\n",
    "if p_value < 0.05:\n",
    "    print(\"The observed differences are statiscally significant - H0 is rejected\")\n",
    "else:\n",
    "    print(\"The observed differences are not statiscally significant - H1 is rejected\")\n",
    "\n"
   ]
  },
  {
   "cell_type": "code",
   "execution_count": 47,
   "metadata": {
    "id": "fj0gW0pS-dN5"
   },
   "outputs": [],
   "source": [
    "# Q3e (answer in words):\n",
    "\n",
    "# Interpret the results\n",
    "\n",
    "# With a p-value of 0.0108, which is less than the common significance level of 0.05, \n",
    "# we reject the null hypothesis (H0).\n",
    "\n",
    "# The results indicate that there is a significant relationship between the two categorical variables, \n",
    "# providing support for the existence of an association or dependence between 'Rank_Abil' and 'Rank_Home'.\n"
   ]
  },
  {
   "cell_type": "markdown",
   "metadata": {
    "id": "FgYRxqqpaUIk"
   },
   "source": [
    "## Task 3. Two-sample t-test\n",
    "As we discussed on Week 3, Two-sample designs are very useful when we want to know whether there is a difference between groups on a particular variable.\n",
    "\n",
    "In this assignment, you will be guided to replicate the Experiment 4 (p. 887-888) from the paper below, focusing on understanding the data through descriptive statistics, visualizing distributions, testing assumptions (normality and variance homogeneity), and finally performing the independent t-test.\n",
    "\n",
    "Schroeder, J. and Epley, N. (2015). The sound of intellect: Speech reveals a thoughtful mind, increasing a job candidate's appeal. Psychological Science, 26, 277--891.\n",
    "\n",
    "\n",
    "As we explained during Week 3 lecture, there are different types of two-sample designs depending on whether or not the two groups are independent (e.g., different participants in different conditions) or not (e.g., same participants in different conditions). In this course we focus on independent samples, which typically means that the observations in the two groups are unrelated - usually meaning different people. But in real practice you will need to go through similar procedures to determine which is the proper statistical test to use.\n",
    "\n",
    "\n",
    "\n",
    "\n",
    "### Background of data: Speech as indicator of intellect\n",
    "To recap on Experiment 4, 39 professional recruiters from Fortune 500 companies evaluated job pitches of M.B.A. candidates (Masters in Business Administration) from the University of Chicago Booth School of Business. The methods and results appear on pages 887--889 of the article if you want to look at them specifically for more details."
   ]
  },
  {
   "cell_type": "markdown",
   "metadata": {
    "id": "vIc57Glgn5Bb"
   },
   "source": [
    "###Step 1: Analyze the demographics of evaluators from the provided dataset\n",
    "\n",
    "**Instructions:**\n",
    "\n",
    "1. Load the necessary libraries (pandas, scipy, numpy, matplotlib.pyplot, seaborn) and explain why you need them (\"#used for ...\").\n",
    "\n",
    "2. Read the evaluators.csv file into a DataFrame.\n",
    "\n",
    "3. Calculate the mean and standard deviation of the age of the evaluators, handling missing values appropriately.\n",
    "\n",
    "4. Count how many male and female evaluators were in the study.\n",
    "\n",
    "**Question 4:**\n",
    "\n",
    "a. What was the mean age of the evaluators?\n",
    "What was the standard deviation of the age of the evaluators?\n",
    "\n",
    "b. How many participants were female and how many participants were male?\n"
   ]
  },
  {
   "cell_type": "code",
   "execution_count": 48,
   "metadata": {
    "id": "RgnTye-yojyH"
   },
   "outputs": [
    {
     "data": {
      "text/html": [
       "<div>\n",
       "<style scoped>\n",
       "    .dataframe tbody tr th:only-of-type {\n",
       "        vertical-align: middle;\n",
       "    }\n",
       "\n",
       "    .dataframe tbody tr th {\n",
       "        vertical-align: top;\n",
       "    }\n",
       "\n",
       "    .dataframe thead th {\n",
       "        text-align: right;\n",
       "    }\n",
       "</style>\n",
       "<table border=\"1\" class=\"dataframe\">\n",
       "  <thead>\n",
       "    <tr style=\"text-align: right;\">\n",
       "      <th></th>\n",
       "      <th>eval_id</th>\n",
       "      <th>condition</th>\n",
       "      <th>age</th>\n",
       "      <th>sex</th>\n",
       "    </tr>\n",
       "  </thead>\n",
       "  <tbody>\n",
       "    <tr>\n",
       "      <th>0</th>\n",
       "      <td>1</td>\n",
       "      <td>listened</td>\n",
       "      <td>29.0</td>\n",
       "      <td>2.0</td>\n",
       "    </tr>\n",
       "    <tr>\n",
       "      <th>1</th>\n",
       "      <td>2</td>\n",
       "      <td>listened</td>\n",
       "      <td>27.0</td>\n",
       "      <td>2.0</td>\n",
       "    </tr>\n",
       "    <tr>\n",
       "      <th>2</th>\n",
       "      <td>3</td>\n",
       "      <td>listened</td>\n",
       "      <td>27.0</td>\n",
       "      <td>2.0</td>\n",
       "    </tr>\n",
       "    <tr>\n",
       "      <th>3</th>\n",
       "      <td>4</td>\n",
       "      <td>read</td>\n",
       "      <td>40.0</td>\n",
       "      <td>2.0</td>\n",
       "    </tr>\n",
       "    <tr>\n",
       "      <th>4</th>\n",
       "      <td>5</td>\n",
       "      <td>read</td>\n",
       "      <td>32.0</td>\n",
       "      <td>2.0</td>\n",
       "    </tr>\n",
       "  </tbody>\n",
       "</table>\n",
       "</div>"
      ],
      "text/plain": [
       "   eval_id condition   age  sex\n",
       "0        1  listened  29.0  2.0\n",
       "1        2  listened  27.0  2.0\n",
       "2        3  listened  27.0  2.0\n",
       "3        4      read  40.0  2.0\n",
       "4        5      read  32.0  2.0"
      ]
     },
     "execution_count": 48,
     "metadata": {},
     "output_type": "execute_result"
    }
   ],
   "source": [
    "\n",
    "import pandas as pd\n",
    "from scipy import stats \n",
    "import numpy as np \n",
    "import matplotlib.pyplot as plt \n",
    "import seaborn as sns \n",
    "\n",
    "# Load the data of evaluators.csv and show the first 5 rows \n",
    "df_evaluators = pd.read_csv('data for A1/evaluators.csv')\n",
    "df_evaluators.head() \n"
   ]
  },
  {
   "cell_type": "code",
   "execution_count": 49,
   "metadata": {
    "id": "eDw0XnX3BRhe"
   },
   "outputs": [
    {
     "name": "stdout",
     "output_type": "stream",
     "text": [
      "Mean Age: 30.85\n",
      "Standard Deviation of Age: 6.24\n"
     ]
    }
   ],
   "source": [
    "# Q4a (code):\n",
    "# Calculate mean and standard deviation for age\n",
    "\n",
    "# Calculate the mean age\n",
    "mean_age = df_evaluators['age'].mean()\n",
    "\n",
    "# Calculate the standard deviation of age\n",
    "std_dev_age = df_evaluators['age'].std()\n",
    "\n",
    "# Display the results\n",
    "print(f\"Mean Age: {mean_age:.2f}\")\n",
    "print(f\"Standard Deviation of Age: {std_dev_age:.2f}\")\n"
   ]
  },
  {
   "cell_type": "code",
   "execution_count": 50,
   "metadata": {
    "id": "I0tU57R5ufRI",
    "scrolled": true
   },
   "outputs": [
    {
     "name": "stdout",
     "output_type": "stream",
     "text": [
      "Gender Distribution:\n",
      "number of Female evaluators    30\n",
      "number of Male evaluators       4\n",
      "Name: sex, dtype: int64\n"
     ]
    }
   ],
   "source": [
    "# Q4b (code)\n",
    "\n",
    "# Step 1: Count male and female evaluators\n",
    "gender_counts = df_evaluators['sex'].value_counts()\n",
    "\n",
    "# Step 2: In the 'sex' column: 1 represents males and 2 represents females\n",
    "gender_counts = df_evaluators['sex'].replace({1: 'number of Male evaluators', 2: 'number of Female evaluators'}).value_counts()\n",
    "\n",
    "# Step 3: Display the result\n",
    "print(\"Gender Distribution:\")\n",
    "print(gender_counts)\n",
    "\n"
   ]
  },
  {
   "cell_type": "markdown",
   "metadata": {
    "id": "KK-MdZfdpDI3"
   },
   "source": [
    "###Step 2: Calculate overall intellect ratings from evaluators and prepare a combined dataset for analysis\n",
    "\n",
    "We are now going to calculate an overall intellect rating given by each evaluator. To break that down a bit, we are going to calculate how intellectual the evaluators (the raters) thought candidates were overall, depending on whether the evaluators read or listened to the candidates' resume pitches. This is calculated by averaging the ratings of competent, thoughtful and intelligent for each evaluator held within ratings.csv.\n",
    "\n",
    "Note: We are not looking at ratings to individual candidates; we are looking at overall ratings for each evaluator. This is a bit confusing but makes sense if you stop to think about it a little. You can think about it in terms of \"do raters rate differently depending on whether they read or listen to a resume pitch\".\n",
    "We will then combine the overall intellect rating with the overall impression ratings and overall hire ratings for each evaluator, all ready found in ratings.csv. In the end we will have a new new dataframe named \"ratings2\" - which has the below structure:\n",
    "\n",
    "**eval_id** shows the evaluator ID. Each evaluator has a different ID. So all the 1's are the same evaluator.\n",
    "\n",
    "**Category** shows the scale that they were rating on - intellect, hire, impression\n",
    "\n",
    "**Rating** shows the overall rating given by that evaluator on a given scale.\n",
    "\n",
    "**condition** shows whether that evaluator listened to (e.g., evaluators 1, 2 and 3), or read (e.g., evaluator 4) the resume.\n",
    "\n",
    "\n",
    "**Instructions:**\n",
    "\n",
    "1. Load the ratings.csv file.\n",
    "\n",
    "2. Filter and calculate the mean intellect rating for each evaluator.\n",
    "\n",
    "3. Combine this with overall impression and hire ratings to create a new DataFrame named \"rating2\".\n",
    "\n",
    "4. Merge this DataFrame with the evaluator demographics.\n",
    "\n",
    "**Question 5**:\n",
    "\n",
    "Print the head of \"rating2\".\n"
   ]
  },
  {
   "cell_type": "code",
   "execution_count": 51,
   "metadata": {
    "id": "l85NzSC-pj57"
   },
   "outputs": [
    {
     "data": {
      "text/html": [
       "<div>\n",
       "<style scoped>\n",
       "    .dataframe tbody tr th:only-of-type {\n",
       "        vertical-align: middle;\n",
       "    }\n",
       "\n",
       "    .dataframe tbody tr th {\n",
       "        vertical-align: top;\n",
       "    }\n",
       "\n",
       "    .dataframe thead th {\n",
       "        text-align: right;\n",
       "    }\n",
       "</style>\n",
       "<table border=\"1\" class=\"dataframe\">\n",
       "  <thead>\n",
       "    <tr style=\"text-align: right;\">\n",
       "      <th></th>\n",
       "      <th>eval_id</th>\n",
       "      <th>Category</th>\n",
       "      <th>Rating</th>\n",
       "    </tr>\n",
       "  </thead>\n",
       "  <tbody>\n",
       "    <tr>\n",
       "      <th>0</th>\n",
       "      <td>1</td>\n",
       "      <td>competent</td>\n",
       "      <td>6.0</td>\n",
       "    </tr>\n",
       "    <tr>\n",
       "      <th>1</th>\n",
       "      <td>1</td>\n",
       "      <td>thoughtful</td>\n",
       "      <td>6.0</td>\n",
       "    </tr>\n",
       "    <tr>\n",
       "      <th>2</th>\n",
       "      <td>1</td>\n",
       "      <td>intelligent</td>\n",
       "      <td>6.0</td>\n",
       "    </tr>\n",
       "    <tr>\n",
       "      <th>3</th>\n",
       "      <td>1</td>\n",
       "      <td>impression</td>\n",
       "      <td>7.0</td>\n",
       "    </tr>\n",
       "    <tr>\n",
       "      <th>4</th>\n",
       "      <td>1</td>\n",
       "      <td>hire</td>\n",
       "      <td>6.0</td>\n",
       "    </tr>\n",
       "  </tbody>\n",
       "</table>\n",
       "</div>"
      ],
      "text/plain": [
       "   eval_id     Category  Rating\n",
       "0        1    competent     6.0\n",
       "1        1   thoughtful     6.0\n",
       "2        1  intelligent     6.0\n",
       "3        1   impression     7.0\n",
       "4        1         hire     6.0"
      ]
     },
     "execution_count": 51,
     "metadata": {},
     "output_type": "execute_result"
    }
   ],
   "source": [
    "# Load ratings data of ratings.csv and read the first 5 rows\n",
    "df_ratings = pd.read_csv('data for A1/ratings.csv')\n",
    "df_ratings.head()\n"
   ]
  },
  {
   "cell_type": "code",
   "execution_count": 52,
   "metadata": {},
   "outputs": [
    {
     "data": {
      "text/html": [
       "<div>\n",
       "<style scoped>\n",
       "    .dataframe tbody tr th:only-of-type {\n",
       "        vertical-align: middle;\n",
       "    }\n",
       "\n",
       "    .dataframe tbody tr th {\n",
       "        vertical-align: top;\n",
       "    }\n",
       "\n",
       "    .dataframe thead th {\n",
       "        text-align: right;\n",
       "    }\n",
       "</style>\n",
       "<table border=\"1\" class=\"dataframe\">\n",
       "  <thead>\n",
       "    <tr style=\"text-align: right;\">\n",
       "      <th></th>\n",
       "      <th>eval_id</th>\n",
       "      <th>Category</th>\n",
       "      <th>Rating</th>\n",
       "      <th>condition</th>\n",
       "    </tr>\n",
       "  </thead>\n",
       "  <tbody>\n",
       "    <tr>\n",
       "      <th>0</th>\n",
       "      <td>1</td>\n",
       "      <td>hire</td>\n",
       "      <td>6.000000</td>\n",
       "      <td>listened</td>\n",
       "    </tr>\n",
       "    <tr>\n",
       "      <th>1</th>\n",
       "      <td>1</td>\n",
       "      <td>impression</td>\n",
       "      <td>7.000000</td>\n",
       "      <td>listened</td>\n",
       "    </tr>\n",
       "    <tr>\n",
       "      <th>2</th>\n",
       "      <td>1</td>\n",
       "      <td>intellect</td>\n",
       "      <td>6.000000</td>\n",
       "      <td>listened</td>\n",
       "    </tr>\n",
       "    <tr>\n",
       "      <th>3</th>\n",
       "      <td>2</td>\n",
       "      <td>hire</td>\n",
       "      <td>4.000000</td>\n",
       "      <td>listened</td>\n",
       "    </tr>\n",
       "    <tr>\n",
       "      <th>4</th>\n",
       "      <td>2</td>\n",
       "      <td>impression</td>\n",
       "      <td>4.666667</td>\n",
       "      <td>listened</td>\n",
       "    </tr>\n",
       "  </tbody>\n",
       "</table>\n",
       "</div>"
      ],
      "text/plain": [
       "   eval_id    Category    Rating condition\n",
       "0        1        hire  6.000000  listened\n",
       "1        1  impression  7.000000  listened\n",
       "2        1   intellect  6.000000  listened\n",
       "3        2        hire  4.000000  listened\n",
       "4        2  impression  4.666667  listened"
      ]
     },
     "execution_count": 52,
     "metadata": {},
     "output_type": "execute_result"
    }
   ],
   "source": [
    "# Q5 (code):\n",
    "# Filter the ratings DataFrame to include only 'thoughtful', 'competent', and 'intelligent' categories\n",
    "filtered_ratings = df_ratings[df_ratings['Category'].isin(['thoughtful', 'competent', 'intelligent'])]\n",
    "\n",
    "# Calculate the mean intellect rating for each evaluator. Group by 'eval_id' and calculate mean, then reset the index to convert groupby object back to DataFrame\n",
    "intellect_mean = filtered_ratings.groupby('eval_id')['Rating'].mean().reset_index()\n",
    "\n",
    "# Add a 'Category' column with the value 'intellect' for these rows\n",
    "intellect_mean['Category'] = 'intellect' \n",
    "\n",
    "# Create a DataFrame for 'impression' and 'hire' ratings\n",
    "other_ratings = df_ratings[df_ratings['Category'].isin(['impression', 'hire'])]\n",
    "\n",
    "# Combine the DataFrames to create 'ratings2'. Concatenate the 'intellect_mean' DataFrame with the 'other_ratings' DataFrame\n",
    "ratings2 = pd.concat([intellect_mean, other_ratings])\n",
    "\n",
    "# Join 'ratings2' with the 'df_evaluators' DataFrame to add the 'condition' column\n",
    "ratings2 = pd.merge(ratings2, df_evaluators[['eval_id', 'condition']], on='eval_id')\n",
    "\n",
    "# Select only the necessary columns as per the structure required\n",
    "ratings2 = ratings2[['eval_id', 'Category', 'Rating', 'condition']]\n",
    "\n",
    "# Arrange by 'eval_id' and 'Category'\n",
    "ratings2 = ratings2.sort_values(by=['eval_id', 'Category']).reset_index(drop=True)\n",
    "\n",
    "# Display the first few rows of the final 'ratings2' DataFrame to verify\n",
    "ratings2.head()\n"
   ]
  },
  {
   "cell_type": "markdown",
   "metadata": {
    "id": "fOmtKCzEpoOa"
   },
   "source": [
    "###Step 3: Perform descriptive and inferential statistical analyses, including testing assumptions and conducting independent t-tests.\n",
    "\n",
    "We are going to run the t-tests for Intellect, Hire and Impression; each time comparing evaluators overall ratings for the listened group versus overall ratings for the read group to see if there was a significant difference between the two conditions: i.e., did the evaluators who listened to pitches give a significant higher or lower rating than evaluators that read pitches?\n",
    "\n",
    "**Question 6**:\n",
    "\n",
    "a. In terms of hypotheses, how can we phrase the hypothesis?\n",
    "\n",
    "b. Which t-test should we choose, one-tail or two-tail? And explian why.\n",
    "\n",
    "c. What are the independent variable and the dependent variable here?\n",
    "\n"
   ]
  },
  {
   "cell_type": "code",
   "execution_count": 53,
   "metadata": {
    "id": "duti45rG22eS"
   },
   "outputs": [],
   "source": [
    "# Q6a (answer in words):\n",
    "\n",
    "# Null hypothesis: \n",
    "# There is no significant difference between overall ratings on the intellect, hire, and impression scales \n",
    "# between evaluators who listened to resume pitches and evaluators who read the resume pitches (μ1 = μ2).\n",
    "\n",
    "# Alternative hypothesis: \n",
    "# There is a significant difference between overall ratings on the intellect, hire, and impression scales \n",
    "# between evaluators who listened to resume pitches and evaluators who read the resume pitches (μ1 ≠ μ2).\n",
    "\n",
    "# we could phrase the null hypothesis for these tests as there is no significant difference between overall ratings on the {insert trait} scale between evaluators who listened to resume pitches and evaluators who read the resume pitches (H0:μ1=μ2). Alternatively, we could state it as there will be a significant difference between overall ratings on the {insert trait} scale between evaluators who listened to resume pitches and evaluators who read the resume pitches (H1:μ1≠μ2)."
   ]
  },
  {
   "cell_type": "code",
   "execution_count": 54,
   "metadata": {
    "id": "EkoM_0js3fyS"
   },
   "outputs": [],
   "source": [
    "# Q6b (answer in words):\n",
    "# Which t-test should we choose, one-tail or two-tail? Explian why.\n",
    "\n",
    "# We should choose a two-tail t-test. \n",
    "# This is because we want to determine whether there is a significant difference in either direction \n",
    "# (higher or lower ratings) between the two conditions. A two-tail test is appropriate when we are interested in\n",
    "# deviations in either direction from the null hypothesis."
   ]
  },
  {
   "cell_type": "code",
   "execution_count": 55,
   "metadata": {
    "id": "073zOlIsI5ws"
   },
   "outputs": [],
   "source": [
    "# Q6c (answer in words):\n",
    "# What are the independent variable and the dependent variable here?\n",
    "\n",
    "# The independent variable is the condition in which evaluators were placed, either \"listened\" or \"read.\" \n",
    "# The dependent variables are the overall ratings on the intellect, hire, and impression scales. \n",
    "# The ratings are dependent on the condition in which the evaluators were placed."
   ]
  },
  {
   "cell_type": "markdown",
   "metadata": {
    "id": "4g-SpuDX23iL"
   },
   "source": [
    "\n",
    "To clarify, we are going to run three between-subjects t-tests in total; one for intellect ratings; one for hire ratings; one for impression ratings.\n",
    "\n",
    "**Instructions:**\n",
    "\n",
    "1. Descriptive analysis of the ratings.\n",
    "\n",
    "2. Test for normal distribution (Shapiro-Wilk test) and homogeneity of variances (Levene's test) for the intellect, impression, and hire ratings.\n",
    "\n",
    "3. Conduct independent t-tests comparing intellect, impression, and hire ratings between conditions (listened vs. read).\n",
    "\n",
    "Hints: three T-tests need to be performed.\n",
    "\n",
    "**Question 7**:\n",
    "\n",
    "a: Print the test results.\n",
    "\n",
    "b: Interpret the results of the above descriptive statistics, Shapiro-Wilk test, Levene's test, and independent t-tests. Explian why we use these tests and how we made our decisions based on the test result."
   ]
  },
  {
   "cell_type": "code",
   "execution_count": 56,
   "metadata": {
    "id": "QD3ZZRrAq4Gc"
   },
   "outputs": [
    {
     "name": "stdout",
     "output_type": "stream",
     "text": [
      "Descriptive Statistics:\n",
      "                      count      mean       std       min       25%       50%  \\\n",
      "Category   condition                                                            \n",
      "hire       listened    21.0  4.714286  2.261479  0.000000  4.000000  5.000000   \n",
      "           read        18.0  2.888889  2.054805  0.000000  1.250000  2.000000   \n",
      "impression listened    21.0  5.968254  1.917477  2.333333  4.666667  6.666667   \n",
      "           read        18.0  4.074074  2.233306  0.333333  2.166667  4.500000   \n",
      "intellect  listened    21.0  5.634921  1.608674  2.333333  5.000000  5.666667   \n",
      "           read        18.0  3.648148  1.911343  0.666667  2.083333  3.666667   \n",
      "\n",
      "                           75%       max  \n",
      "Category   condition                      \n",
      "hire       listened   7.000000  8.000000  \n",
      "           read       4.000000  7.000000  \n",
      "impression listened   7.333333  8.666667  \n",
      "           read       5.333333  7.333333  \n",
      "intellect  listened   6.000000  9.000000  \n",
      "           read       4.666667  7.000000  \n",
      "\n",
      "Shapiro-Wilk Test Results:\n",
      "Category    condition\n",
      "hire        listened     0.208831\n",
      "            read         0.066006\n",
      "impression  listened     0.212761\n",
      "            read         0.400117\n",
      "intellect   listened     0.173651\n",
      "            read         0.444798\n",
      "Name: Rating, dtype: float64\n",
      "\n",
      "Levene's Test Results:\n",
      "LeveneResult(statistic=0.7819490310922808, pvalue=0.4599515880723639)\n",
      "\n",
      "Independent t-test Results:\n",
      "Ttest_indResult(statistic=5.03648030818782, pvalue=1.7751123233584968e-06)\n"
     ]
    }
   ],
   "source": [
    "##Q7a (code):\n",
    "from scipy.stats import shapiro, levene, ttest_ind # used for statistical analysis in Python\n",
    "\n",
    "# Descriptive analysis of the ratings\n",
    "ratings_desc = ratings2.groupby(['Category', 'condition'])['Rating'].describe()\n",
    "\n",
    "# Test for normal distribution (Shapiro-Wilk test)\n",
    "shapiro_results = ratings2.groupby(['Category', 'condition'])['Rating'].apply(lambda x: shapiro(x)[1])\n",
    "\n",
    "# Test for homogeneity of variances (Levene's test)\n",
    "levene_results = levene(ratings2[ratings2['Category'] == 'intellect']['Rating'], \n",
    "                        ratings2[ratings2['Category'] == 'hire']['Rating'],\n",
    "                        ratings2[ratings2['Category'] == 'impression']['Rating'])\n",
    "\n",
    "# Independent t-tests\n",
    "ttest_results = ttest_ind(ratings2[ratings2['condition'] == 'listened']['Rating'], \n",
    "                          ratings2[ratings2['condition'] == 'read']['Rating'])\n",
    "\n",
    "# Print the test results\n",
    "print(\"Descriptive Statistics:\")\n",
    "print(ratings_desc)\n",
    "print(\"\\nShapiro-Wilk Test Results:\")\n",
    "print(shapiro_results)\n",
    "print(\"\\nLevene's Test Results:\")\n",
    "print(levene_results)\n",
    "print(\"\\nIndependent t-test Results:\")\n",
    "print(ttest_results)\n"
   ]
  },
  {
   "cell_type": "code",
   "execution_count": 57,
   "metadata": {
    "id": "aifm_T8UQwYm"
   },
   "outputs": [],
   "source": [
    "#Q7b (answer in words):\n",
    "\n",
    "# The descriptive statistics provide an overview of the central tendency and variability of the data,\n",
    "# helping us understand the characteristics of the intellect, impression, and hire ratings in both the listened \n",
    "# and read conditions.\n",
    "\n",
    "# The Shapiro-Wilk test is used to assess the normality of the data distributions. If the p-value is greater than \n",
    "# the significance level (e.g., 0.05), we assume normality. Normality is important for the validity of parametric \n",
    "# tests like t-tests.\n",
    "\n",
    "# Levene's test checks the homogeneity of variances between the listened and read conditions. If the p-value is \n",
    "# greater than the significance level, we assume homogeneity of variances. Homogeneity of variances is an assumption\n",
    "# for the validity of the independent t-test.\n",
    "\n",
    "# The independent t-tests are performed to assess whether there is a statistically significant difference in the \n",
    "# mean ratings between the listened and read conditions for intellect, impression, and hire. The results of the \n",
    "# t-tests, specifically the p-values, help us determine whether the observed differences are likely due to \n",
    "# chance or if they are significant.\n",
    "\n",
    "# These tests are conducted to ensure the validity of the subsequent t-tests and to provide insights into the \n",
    "# distribution and variability of the data. The decisions are made based on the significance levels (usually 0.05) \n",
    "# associated with each test's p-value.\n",
    "\n",
    "\n"
   ]
  }
 ],
 "metadata": {
  "colab": {
   "provenance": []
  },
  "kernelspec": {
   "display_name": "Python 3 (ipykernel)",
   "language": "python",
   "name": "python3"
  },
  "language_info": {
   "codemirror_mode": {
    "name": "ipython",
    "version": 3
   },
   "file_extension": ".py",
   "mimetype": "text/x-python",
   "name": "python",
   "nbconvert_exporter": "python",
   "pygments_lexer": "ipython3",
   "version": "3.11.4"
  }
 },
 "nbformat": 4,
 "nbformat_minor": 1
}
